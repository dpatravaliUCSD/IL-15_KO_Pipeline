{
 "cells": [
  {
   "cell_type": "code",
   "execution_count": 17,
   "id": "1",
   "metadata": {},
   "outputs": [],
   "source": [
    "import scanpy as sc\n",
    "import pandas as pd\n",
    "import numpy as np\n",
    "import os\n",
    "from tqdm.notebook import tqdm\n",
    "import matplotlib.pyplot as plt\n",
    "from collections import Counter\n",
    "import glob\n",
    "import geopandas as gpd\n",
    "import seaborn as sns\n",
    "from shapely.ops import transform\n",
    "from shapely.affinity import scale\n",
    "import imageio as io\n",
    "import tifffile as tiff\n",
    "import shapely.affinity as sa\n",
    "import json\n",
    "from core_functions.segmentation_evaluation import *"
   ]
  },
  {
   "cell_type": "code",
   "execution_count": 18,
   "id": "2",
   "metadata": {},
   "outputs": [],
   "source": [
    "output_dir = \"/mnt/sata3/Dhruv_Analysis_1/2025_05_22_IL-15_KO\""
   ]
  },
  {
   "cell_type": "code",
   "execution_count": 19,
   "id": "7dd191dd",
   "metadata": {},
   "outputs": [
    {
     "name": "stdout",
     "output_type": "stream",
     "text": [
      "Output directory already made\n"
     ]
    }
   ],
   "source": [
    "try:\n",
    "    os.mkdir(output_dir)\n",
    "except:\n",
    "    print('Output directory already made')"
   ]
  },
  {
   "cell_type": "code",
   "execution_count": 20,
   "id": "3",
   "metadata": {},
   "outputs": [],
   "source": [
    "os.mkdir(os.path.join(output_dir, \"batch_1\"))\n",
    "os.mkdir(os.path.join(output_dir, \"batch_2\"))\n",
    "os.mkdir(os.path.join(output_dir, \"batch_3\"))\n",
    "os.mkdir(os.path.join(output_dir, \"batch_4\"))"
   ]
  },
  {
   "cell_type": "code",
   "execution_count": 21,
   "id": "fc78ad26",
   "metadata": {},
   "outputs": [],
   "source": [
    "os.mkdir(os.path.join(output_dir, \"batch_1\", \"adatas\"))\n",
    "os.mkdir(os.path.join(output_dir, \"batch_2\", \"adatas\"))\n",
    "os.mkdir(os.path.join(output_dir, \"batch_3\", \"adatas\"))\n",
    "os.mkdir(os.path.join(output_dir, \"batch_4\", \"adatas\"))"
   ]
  },
  {
   "cell_type": "code",
   "execution_count": 22,
   "id": "05a5c6e1",
   "metadata": {},
   "outputs": [],
   "source": [
    "batch_1_dir = '/mnt/dhruv-xenium/20250516__200732__IL-15_KO_SI_runA/output-XETG00341__0028704__AG0250_1R__20250516__200751'\n",
    "batch_1 = sc.read_10x_mtx(os.path.join(batch_1_dir, 'cell_feature_matrix'))\n",
    "cells_batch1 = pd.read_csv(os.path.join(batch_1_dir, 'cells.csv.gz'), index_col=0)\n",
    "batch_1.obs = cells_batch1\n"
   ]
  },
  {
   "cell_type": "code",
   "execution_count": 23,
   "id": "42129924",
   "metadata": {},
   "outputs": [],
   "source": [
    "batch_2_dir = '/mnt/dhruv-xenium/20250516__200732__IL-15_KO_SI_runA/output-XETG00341__0028716__AG0254_2LL__20250516__200751'\n",
    "batch_2 = sc.read_10x_mtx(os.path.join(batch_2_dir, 'cell_feature_matrix'))\n",
    "cells_batch2 = pd.read_csv(os.path.join(batch_2_dir, 'cells.csv.gz'), index_col=0)\n",
    "batch_2.obs = cells_batch2"
   ]
  },
  {
   "cell_type": "code",
   "execution_count": 24,
   "id": "5ba19976",
   "metadata": {},
   "outputs": [],
   "source": [
    "batch_3_dir = '/mnt/dhruv-xenium/20250516__200732__IL-15_KO_SI_runA/output-XETG00341__0028704__AG0262_4LL__20250516__200751'\n",
    "batch_3 = sc.read_10x_mtx(os.path.join(batch_3_dir, 'cell_feature_matrix'))\n",
    "cells_batch3 = pd.read_csv(os.path.join(batch_3_dir, 'cells.csv.gz'), index_col=0)\n",
    "batch_3.obs = cells_batch3"
   ]
  },
  {
   "cell_type": "code",
   "execution_count": 25,
   "id": "f75f1099",
   "metadata": {},
   "outputs": [],
   "source": [
    "batch_4_dir = '/mnt/dhruv-xenium/20250516__200732__IL-15_KO_SI_runA/output-XETG00341__0028716__AG0261_4R__20250516__200751'\n",
    "batch_4 = sc.read_10x_mtx(os.path.join(batch_4_dir, 'cell_feature_matrix'))\n",
    "cells_batch4 = pd.read_csv(os.path.join(batch_4_dir, 'cells.csv.gz'), index_col=0)\n",
    "batch_4.obs = cells_batch4"
   ]
  },
  {
   "cell_type": "code",
   "execution_count": 26,
   "id": "4a9266f3",
   "metadata": {},
   "outputs": [],
   "source": [
    "batch_1.obsm['X_spatial'] = batch_1.obs[['x_centroid', 'y_centroid']].values\n",
    "batch_2.obsm['X_spatial'] = batch_2.obs[['x_centroid', 'y_centroid']].values\n",
    "batch_3.obsm['X_spatial'] = batch_3.obs[['x_centroid', 'y_centroid']].values\n",
    "batch_4.obsm['X_spatial'] = batch_4.obs[['x_centroid', 'y_centroid']].values\n"
   ]
  },
  {
   "cell_type": "code",
   "execution_count": 27,
   "id": "f5da0537",
   "metadata": {},
   "outputs": [],
   "source": [
    "# to make directories, new\n",
    "\n",
    "\n",
    "save_path_1 = os.path.join(output_dir, \"batch_1\", \"adatas\")\n",
    "os.makedirs(save_path_1, exist_ok=True)\n",
    "\n",
    "save_path_2 = os.path.join(output_dir, \"batch_2\", \"adatas\")\n",
    "os.makedirs(save_path_2, exist_ok=True)\n",
    "\n",
    "save_path_3 = os.path.join(output_dir, \"batch_3\", \"adatas\")\n",
    "os.makedirs(save_path_3, exist_ok=True)\n",
    "\n",
    "save_path_4 = os.path.join(output_dir, \"batch_4\", \"adatas\")\n",
    "os.makedirs(save_path_4, exist_ok=True)"
   ]
  },
  {
   "cell_type": "code",
   "execution_count": 28,
   "id": "4f2d3cff",
   "metadata": {},
   "outputs": [],
   "source": [
    "batch_1.write(os.path.join(output_dir, \"batch_1\", \"adatas\", '01_preprocessed.h5ad'))\n",
    "batch_2.write(os.path.join(output_dir, \"batch_2\", \"adatas\", '01_preprocessed.h5ad'))\n",
    "batch_3.write(os.path.join(output_dir, \"batch_3\", \"adatas\", '01_preprocessed.h5ad'))\n",
    "batch_4.write(os.path.join(output_dir, \"batch_4\", \"adatas\", '01_preprocessed.h5ad'))"
   ]
  }
 ],
 "metadata": {
  "kernelspec": {
   "display_name": "transcriptomics_packages",
   "language": "python",
   "name": "python3"
  },
  "language_info": {
   "codemirror_mode": {
    "name": "ipython",
    "version": 3
   },
   "file_extension": ".py",
   "mimetype": "text/x-python",
   "name": "python",
   "nbconvert_exporter": "python",
   "pygments_lexer": "ipython3",
   "version": "3.8.20"
  }
 },
 "nbformat": 4,
 "nbformat_minor": 5
}
